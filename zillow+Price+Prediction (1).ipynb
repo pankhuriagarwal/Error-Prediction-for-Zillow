{
 "cells": [
  {
   "cell_type": "markdown",
   "metadata": {},
   "source": [
    "# Zillow Price Prediction"
   ]
  },
  {
   "cell_type": "markdown",
   "metadata": {},
   "source": [
    "In this book, we have input  properties of houses like Longitude, Latitude, Area, Number of rooms etc. We also have the log error between the zestimate of the house and actual proce of the house. Log error is defined as \n",
    "\n",
    "logerror=log(Zestimate)−log(SalePrice)\n",
    "\n",
    "We will use the properties to predict the log error using regression models."
   ]
  },
  {
   "cell_type": "code",
   "execution_count": 54,
   "metadata": {
    "collapsed": true
   },
   "outputs": [],
   "source": [
    "#import needed libraries\n",
    "import pandas as pd\n",
    "import numpy as np\n",
    "import sklearn\n",
    "import seaborn as sns\n",
    "import matplotlib.pyplot as plt"
   ]
  },
  {
   "cell_type": "code",
   "execution_count": 55,
   "metadata": {},
   "outputs": [],
   "source": [
    "from sklearn.ensemble import RandomForestRegressor, AdaBoostRegressor, ExtraTreesRegressor, GradientBoostingRegressor\n",
    "from sklearn.svm import LinearSVR\n",
    "from sklearn.linear_model import Lasso, ElasticNet\n",
    "from sklearn.cross_validation import KFold;"
   ]
  },
  {
   "cell_type": "code",
   "execution_count": 56,
   "metadata": {},
   "outputs": [
    {
     "name": "stderr",
     "output_type": "stream",
     "text": [
      "c:\\users\\the hacker supreme\\appdata\\local\\programs\\python\\python35\\lib\\site-packages\\IPython\\core\\interactiveshell.py:2683: DtypeWarning: Columns (22,32,34,49,55) have mixed types. Specify dtype option on import or set low_memory=False.\n",
      "  interactivity=interactivity, compiler=compiler, result=result)\n"
     ]
    }
   ],
   "source": [
    "train = pd.read_csv('properties_2016.csv')\n",
    "train_label = pd.read_csv('train_2016_v2.csv')"
   ]
  },
  {
   "cell_type": "code",
   "execution_count": 57,
   "metadata": {},
   "outputs": [
    {
     "data": {
      "text/html": [
       "<div>\n",
       "<style>\n",
       "    .dataframe thead tr:only-child th {\n",
       "        text-align: right;\n",
       "    }\n",
       "\n",
       "    .dataframe thead th {\n",
       "        text-align: left;\n",
       "    }\n",
       "\n",
       "    .dataframe tbody tr th {\n",
       "        vertical-align: top;\n",
       "    }\n",
       "</style>\n",
       "<table border=\"1\" class=\"dataframe\">\n",
       "  <thead>\n",
       "    <tr style=\"text-align: right;\">\n",
       "      <th></th>\n",
       "      <th>parcelid</th>\n",
       "      <th>airconditioningtypeid</th>\n",
       "      <th>architecturalstyletypeid</th>\n",
       "      <th>basementsqft</th>\n",
       "      <th>bathroomcnt</th>\n",
       "      <th>bedroomcnt</th>\n",
       "      <th>buildingclasstypeid</th>\n",
       "      <th>buildingqualitytypeid</th>\n",
       "      <th>calculatedbathnbr</th>\n",
       "      <th>decktypeid</th>\n",
       "      <th>...</th>\n",
       "      <th>numberofstories</th>\n",
       "      <th>fireplaceflag</th>\n",
       "      <th>structuretaxvaluedollarcnt</th>\n",
       "      <th>taxvaluedollarcnt</th>\n",
       "      <th>assessmentyear</th>\n",
       "      <th>landtaxvaluedollarcnt</th>\n",
       "      <th>taxamount</th>\n",
       "      <th>taxdelinquencyflag</th>\n",
       "      <th>taxdelinquencyyear</th>\n",
       "      <th>censustractandblock</th>\n",
       "    </tr>\n",
       "  </thead>\n",
       "  <tbody>\n",
       "    <tr>\n",
       "      <th>0</th>\n",
       "      <td>10754147</td>\n",
       "      <td>NaN</td>\n",
       "      <td>NaN</td>\n",
       "      <td>NaN</td>\n",
       "      <td>0.0</td>\n",
       "      <td>0.0</td>\n",
       "      <td>NaN</td>\n",
       "      <td>NaN</td>\n",
       "      <td>NaN</td>\n",
       "      <td>NaN</td>\n",
       "      <td>...</td>\n",
       "      <td>NaN</td>\n",
       "      <td>NaN</td>\n",
       "      <td>NaN</td>\n",
       "      <td>9.0</td>\n",
       "      <td>2015.0</td>\n",
       "      <td>9.0</td>\n",
       "      <td>NaN</td>\n",
       "      <td>NaN</td>\n",
       "      <td>NaN</td>\n",
       "      <td>NaN</td>\n",
       "    </tr>\n",
       "    <tr>\n",
       "      <th>1</th>\n",
       "      <td>10759547</td>\n",
       "      <td>NaN</td>\n",
       "      <td>NaN</td>\n",
       "      <td>NaN</td>\n",
       "      <td>0.0</td>\n",
       "      <td>0.0</td>\n",
       "      <td>NaN</td>\n",
       "      <td>NaN</td>\n",
       "      <td>NaN</td>\n",
       "      <td>NaN</td>\n",
       "      <td>...</td>\n",
       "      <td>NaN</td>\n",
       "      <td>NaN</td>\n",
       "      <td>NaN</td>\n",
       "      <td>27516.0</td>\n",
       "      <td>2015.0</td>\n",
       "      <td>27516.0</td>\n",
       "      <td>NaN</td>\n",
       "      <td>NaN</td>\n",
       "      <td>NaN</td>\n",
       "      <td>NaN</td>\n",
       "    </tr>\n",
       "    <tr>\n",
       "      <th>2</th>\n",
       "      <td>10843547</td>\n",
       "      <td>NaN</td>\n",
       "      <td>NaN</td>\n",
       "      <td>NaN</td>\n",
       "      <td>0.0</td>\n",
       "      <td>0.0</td>\n",
       "      <td>NaN</td>\n",
       "      <td>NaN</td>\n",
       "      <td>NaN</td>\n",
       "      <td>NaN</td>\n",
       "      <td>...</td>\n",
       "      <td>NaN</td>\n",
       "      <td>NaN</td>\n",
       "      <td>650756.0</td>\n",
       "      <td>1413387.0</td>\n",
       "      <td>2015.0</td>\n",
       "      <td>762631.0</td>\n",
       "      <td>20800.37</td>\n",
       "      <td>NaN</td>\n",
       "      <td>NaN</td>\n",
       "      <td>NaN</td>\n",
       "    </tr>\n",
       "    <tr>\n",
       "      <th>3</th>\n",
       "      <td>10859147</td>\n",
       "      <td>NaN</td>\n",
       "      <td>NaN</td>\n",
       "      <td>NaN</td>\n",
       "      <td>0.0</td>\n",
       "      <td>0.0</td>\n",
       "      <td>3.0</td>\n",
       "      <td>7.0</td>\n",
       "      <td>NaN</td>\n",
       "      <td>NaN</td>\n",
       "      <td>...</td>\n",
       "      <td>1.0</td>\n",
       "      <td>NaN</td>\n",
       "      <td>571346.0</td>\n",
       "      <td>1156834.0</td>\n",
       "      <td>2015.0</td>\n",
       "      <td>585488.0</td>\n",
       "      <td>14557.57</td>\n",
       "      <td>NaN</td>\n",
       "      <td>NaN</td>\n",
       "      <td>NaN</td>\n",
       "    </tr>\n",
       "    <tr>\n",
       "      <th>4</th>\n",
       "      <td>10879947</td>\n",
       "      <td>NaN</td>\n",
       "      <td>NaN</td>\n",
       "      <td>NaN</td>\n",
       "      <td>0.0</td>\n",
       "      <td>0.0</td>\n",
       "      <td>4.0</td>\n",
       "      <td>NaN</td>\n",
       "      <td>NaN</td>\n",
       "      <td>NaN</td>\n",
       "      <td>...</td>\n",
       "      <td>NaN</td>\n",
       "      <td>NaN</td>\n",
       "      <td>193796.0</td>\n",
       "      <td>433491.0</td>\n",
       "      <td>2015.0</td>\n",
       "      <td>239695.0</td>\n",
       "      <td>5725.17</td>\n",
       "      <td>NaN</td>\n",
       "      <td>NaN</td>\n",
       "      <td>NaN</td>\n",
       "    </tr>\n",
       "  </tbody>\n",
       "</table>\n",
       "<p>5 rows × 58 columns</p>\n",
       "</div>"
      ],
      "text/plain": [
       "   parcelid  airconditioningtypeid  architecturalstyletypeid  basementsqft  \\\n",
       "0  10754147                    NaN                       NaN           NaN   \n",
       "1  10759547                    NaN                       NaN           NaN   \n",
       "2  10843547                    NaN                       NaN           NaN   \n",
       "3  10859147                    NaN                       NaN           NaN   \n",
       "4  10879947                    NaN                       NaN           NaN   \n",
       "\n",
       "   bathroomcnt  bedroomcnt  buildingclasstypeid  buildingqualitytypeid  \\\n",
       "0          0.0         0.0                  NaN                    NaN   \n",
       "1          0.0         0.0                  NaN                    NaN   \n",
       "2          0.0         0.0                  NaN                    NaN   \n",
       "3          0.0         0.0                  3.0                    7.0   \n",
       "4          0.0         0.0                  4.0                    NaN   \n",
       "\n",
       "   calculatedbathnbr  decktypeid         ...           numberofstories  \\\n",
       "0                NaN         NaN         ...                       NaN   \n",
       "1                NaN         NaN         ...                       NaN   \n",
       "2                NaN         NaN         ...                       NaN   \n",
       "3                NaN         NaN         ...                       1.0   \n",
       "4                NaN         NaN         ...                       NaN   \n",
       "\n",
       "   fireplaceflag  structuretaxvaluedollarcnt  taxvaluedollarcnt  \\\n",
       "0            NaN                         NaN                9.0   \n",
       "1            NaN                         NaN            27516.0   \n",
       "2            NaN                    650756.0          1413387.0   \n",
       "3            NaN                    571346.0          1156834.0   \n",
       "4            NaN                    193796.0           433491.0   \n",
       "\n",
       "   assessmentyear  landtaxvaluedollarcnt  taxamount  taxdelinquencyflag  \\\n",
       "0          2015.0                    9.0        NaN                 NaN   \n",
       "1          2015.0                27516.0        NaN                 NaN   \n",
       "2          2015.0               762631.0   20800.37                 NaN   \n",
       "3          2015.0               585488.0   14557.57                 NaN   \n",
       "4          2015.0               239695.0    5725.17                 NaN   \n",
       "\n",
       "   taxdelinquencyyear  censustractandblock  \n",
       "0                 NaN                  NaN  \n",
       "1                 NaN                  NaN  \n",
       "2                 NaN                  NaN  \n",
       "3                 NaN                  NaN  \n",
       "4                 NaN                  NaN  \n",
       "\n",
       "[5 rows x 58 columns]"
      ]
     },
     "execution_count": 57,
     "metadata": {},
     "output_type": "execute_result"
    }
   ],
   "source": [
    "train.head()"
   ]
  },
  {
   "cell_type": "code",
   "execution_count": 58,
   "metadata": {},
   "outputs": [
    {
     "data": {
      "text/plain": [
       "(2985217, 58)"
      ]
     },
     "execution_count": 58,
     "metadata": {},
     "output_type": "execute_result"
    }
   ],
   "source": [
    "train.shape"
   ]
  },
  {
   "cell_type": "code",
   "execution_count": 59,
   "metadata": {},
   "outputs": [
    {
     "data": {
      "text/html": [
       "<div>\n",
       "<style>\n",
       "    .dataframe thead tr:only-child th {\n",
       "        text-align: right;\n",
       "    }\n",
       "\n",
       "    .dataframe thead th {\n",
       "        text-align: left;\n",
       "    }\n",
       "\n",
       "    .dataframe tbody tr th {\n",
       "        vertical-align: top;\n",
       "    }\n",
       "</style>\n",
       "<table border=\"1\" class=\"dataframe\">\n",
       "  <thead>\n",
       "    <tr style=\"text-align: right;\">\n",
       "      <th></th>\n",
       "      <th>parcelid</th>\n",
       "      <th>logerror</th>\n",
       "      <th>transactiondate</th>\n",
       "    </tr>\n",
       "  </thead>\n",
       "  <tbody>\n",
       "    <tr>\n",
       "      <th>0</th>\n",
       "      <td>11016594</td>\n",
       "      <td>0.0276</td>\n",
       "      <td>2016-01-01</td>\n",
       "    </tr>\n",
       "    <tr>\n",
       "      <th>1</th>\n",
       "      <td>14366692</td>\n",
       "      <td>-0.1684</td>\n",
       "      <td>2016-01-01</td>\n",
       "    </tr>\n",
       "    <tr>\n",
       "      <th>2</th>\n",
       "      <td>12098116</td>\n",
       "      <td>-0.0040</td>\n",
       "      <td>2016-01-01</td>\n",
       "    </tr>\n",
       "    <tr>\n",
       "      <th>3</th>\n",
       "      <td>12643413</td>\n",
       "      <td>0.0218</td>\n",
       "      <td>2016-01-02</td>\n",
       "    </tr>\n",
       "    <tr>\n",
       "      <th>4</th>\n",
       "      <td>14432541</td>\n",
       "      <td>-0.0050</td>\n",
       "      <td>2016-01-02</td>\n",
       "    </tr>\n",
       "  </tbody>\n",
       "</table>\n",
       "</div>"
      ],
      "text/plain": [
       "   parcelid  logerror transactiondate\n",
       "0  11016594    0.0276      2016-01-01\n",
       "1  14366692   -0.1684      2016-01-01\n",
       "2  12098116   -0.0040      2016-01-01\n",
       "3  12643413    0.0218      2016-01-02\n",
       "4  14432541   -0.0050      2016-01-02"
      ]
     },
     "execution_count": 59,
     "metadata": {},
     "output_type": "execute_result"
    }
   ],
   "source": [
    "train_label.head()"
   ]
  },
  {
   "cell_type": "markdown",
   "metadata": {},
   "source": [
    "For model training, We only need the information on houses for which we have the logerror available. We therefore match the train table with train_label. "
   ]
  },
  {
   "cell_type": "code",
   "execution_count": 60,
   "metadata": {},
   "outputs": [
    {
     "data": {
      "text/plain": [
       "(90275, 60)"
      ]
     },
     "execution_count": 60,
     "metadata": {},
     "output_type": "execute_result"
    }
   ],
   "source": [
    "merge = train.merge(train_label,on=['parcelid'])\n",
    "merge.shape"
   ]
  },
  {
   "cell_type": "code",
   "execution_count": 61,
   "metadata": {
    "collapsed": true
   },
   "outputs": [],
   "source": [
    "merge.to_csv('merge.csv')"
   ]
  },
  {
   "cell_type": "code",
   "execution_count": 62,
   "metadata": {
    "collapsed": true
   },
   "outputs": [],
   "source": [
    "#divide into x and y\n",
    "y_train = merge['logerror']\n",
    "x_train = merge.drop(['logerror', 'parcelid'], axis=1)"
   ]
  },
  {
   "cell_type": "markdown",
   "metadata": {},
   "source": [
    "We now clean the data. For this we do:\n",
    "1. Remove duplicate columns\n",
    "2. One hot encode text columns\n",
    "3. Remove NAN values\n",
    "4. Merge any columns as required"
   ]
  },
  {
   "cell_type": "code",
   "execution_count": 63,
   "metadata": {
    "collapsed": true
   },
   "outputs": [],
   "source": [
    "x_train = merge\n",
    "x_train['year'], x_train['month'], x_train['day'] = x_train['transactiondate'].str.split('-').str\n",
    "x_train = merge.drop(['transactiondate'], axis=1)"
   ]
  },
  {
   "cell_type": "code",
   "execution_count": 64,
   "metadata": {},
   "outputs": [
    {
     "data": {
      "text/plain": [
       "(90275, 62)"
      ]
     },
     "execution_count": 64,
     "metadata": {},
     "output_type": "execute_result"
    }
   ],
   "source": [
    "x_train.shape"
   ]
  },
  {
   "cell_type": "code",
   "execution_count": 65,
   "metadata": {},
   "outputs": [
    {
     "data": {
      "text/plain": [
       "(90275, 61)"
      ]
     },
     "execution_count": 65,
     "metadata": {},
     "output_type": "execute_result"
    }
   ],
   "source": [
    "#drop indistinct features\n",
    "x_train=x_train.drop(['assessmentyear'], axis=1)\n",
    "x_train.shape"
   ]
  },
  {
   "cell_type": "code",
   "execution_count": 66,
   "metadata": {
    "collapsed": true
   },
   "outputs": [],
   "source": [
    "#One hot encode boolean features\n",
    "# OneHotEncoding\n",
    "x_train['has_basement'] = x_train[\"basementsqft\"].apply(lambda x: 0 if np.isnan(x) else 1).astype(float)\n",
    "x_train['hashottuborspa'] = x_train[\"hashottuborspa\"].apply(lambda x: 0 if np.isnan(x) else 1).astype(float)\n",
    "x_train['has_pool'] = x_train[\"poolcnt\"].apply(lambda x: 0 if np.isnan(x) else 1).astype(float)\n",
    "x_train['has_airconditioning'] = x_train[\"airconditioningtypeid\"].apply(lambda x: 0 if np.isnan(x) else 1).astype(float)\n",
    "\n",
    "\n",
    "#handle missing values and nan\n",
    "x_train['fireplacecnt'] = x_train['fireplacecnt'].apply(lambda x: 0 if np.isnan(x) else x).astype(float)\n",
    "x_train['bathroomcnt'] = x_train['bathroomcnt'].fillna(x_train['bathroomcnt'].median()).astype(float)\n",
    "x_train['bedroomcnt'] = x_train['bedroomcnt'].fillna(x_train['bedroomcnt'].median()).astype(float)\n",
    "x_train['roomcnt'] = x_train['roomcnt'].fillna(x_train['roomcnt'].median()).astype(float)\n",
    "\n",
    "x_train['taxamount'] = x_train['taxamount'].fillna(x_train['taxamount'].median()).astype(float)\n",
    "x_train['landtaxvaluedollarcnt'] = x_train['landtaxvaluedollarcnt'].fillna(x_train['landtaxvaluedollarcnt'].median()).astype(float)\n",
    "x_train['taxvaluedollarcnt'] = x_train['taxvaluedollarcnt'].fillna(x_train['taxvaluedollarcnt'].median()).astype(float)\n",
    "x_train['structuretaxvaluedollarcnt'] = x_train['structuretaxvaluedollarcnt'].fillna(x_train['structuretaxvaluedollarcnt'].median()).astype(float)\n",
    "x_train['garagetotalsqft'] = x_train['garagetotalsqft'].fillna(x_train['garagetotalsqft'].median()).astype(float)\n",
    "x_train['garagecarcnt'] = x_train['garagecarcnt'].fillna(x_train['garagecarcnt'].median()).astype(float)\n",
    "x_train['fireplacecnt'] = x_train['fireplacecnt'].fillna(x_train['fireplacecnt'].median()).astype(float)\n",
    "x_train['calculatedfinishedsquarefeet'] = x_train['calculatedfinishedsquarefeet'].fillna(x_train['calculatedfinishedsquarefeet'].median()).astype(float)\n",
    "x_train['yearbuilt'] = train['yearbuilt'].fillna(train['yearbuilt'].median()).astype(float)\n",
    "x_train['lotsizesquarefeet'] = x_train['lotsizesquarefeet'].fillna(x_train['lotsizesquarefeet'].median()).astype(float)\n",
    "\n",
    "x_train['longitude'] = x_train['longitude'].fillna(x_train['longitude'].median()).astype(float)\n",
    "x_train['latitude'] = x_train['latitude'].fillna(x_train['latitude'].median()).astype(float)\n"
   ]
  },
  {
   "cell_type": "code",
   "execution_count": 67,
   "metadata": {},
   "outputs": [
    {
     "data": {
      "text/html": [
       "<div>\n",
       "<style>\n",
       "    .dataframe thead tr:only-child th {\n",
       "        text-align: right;\n",
       "    }\n",
       "\n",
       "    .dataframe thead th {\n",
       "        text-align: left;\n",
       "    }\n",
       "\n",
       "    .dataframe tbody tr th {\n",
       "        vertical-align: top;\n",
       "    }\n",
       "</style>\n",
       "<table border=\"1\" class=\"dataframe\">\n",
       "  <thead>\n",
       "    <tr style=\"text-align: right;\">\n",
       "      <th></th>\n",
       "      <th>parcelid</th>\n",
       "      <th>airconditioningtypeid</th>\n",
       "      <th>architecturalstyletypeid</th>\n",
       "      <th>basementsqft</th>\n",
       "      <th>bathroomcnt</th>\n",
       "      <th>bedroomcnt</th>\n",
       "      <th>buildingclasstypeid</th>\n",
       "      <th>buildingqualitytypeid</th>\n",
       "      <th>calculatedbathnbr</th>\n",
       "      <th>decktypeid</th>\n",
       "      <th>...</th>\n",
       "      <th>taxdelinquencyflag</th>\n",
       "      <th>taxdelinquencyyear</th>\n",
       "      <th>censustractandblock</th>\n",
       "      <th>logerror</th>\n",
       "      <th>year</th>\n",
       "      <th>month</th>\n",
       "      <th>day</th>\n",
       "      <th>has_basement</th>\n",
       "      <th>has_pool</th>\n",
       "      <th>has_airconditioning</th>\n",
       "    </tr>\n",
       "  </thead>\n",
       "  <tbody>\n",
       "    <tr>\n",
       "      <th>0</th>\n",
       "      <td>17073783</td>\n",
       "      <td>NaN</td>\n",
       "      <td>NaN</td>\n",
       "      <td>NaN</td>\n",
       "      <td>2.5</td>\n",
       "      <td>3.0</td>\n",
       "      <td>NaN</td>\n",
       "      <td>NaN</td>\n",
       "      <td>2.5</td>\n",
       "      <td>NaN</td>\n",
       "      <td>...</td>\n",
       "      <td>NaN</td>\n",
       "      <td>NaN</td>\n",
       "      <td>6.111002e+13</td>\n",
       "      <td>0.0953</td>\n",
       "      <td>2016</td>\n",
       "      <td>01</td>\n",
       "      <td>27</td>\n",
       "      <td>0.0</td>\n",
       "      <td>0.0</td>\n",
       "      <td>0.0</td>\n",
       "    </tr>\n",
       "    <tr>\n",
       "      <th>1</th>\n",
       "      <td>17088994</td>\n",
       "      <td>NaN</td>\n",
       "      <td>NaN</td>\n",
       "      <td>NaN</td>\n",
       "      <td>1.0</td>\n",
       "      <td>2.0</td>\n",
       "      <td>NaN</td>\n",
       "      <td>NaN</td>\n",
       "      <td>1.0</td>\n",
       "      <td>NaN</td>\n",
       "      <td>...</td>\n",
       "      <td>NaN</td>\n",
       "      <td>NaN</td>\n",
       "      <td>6.111002e+13</td>\n",
       "      <td>0.0198</td>\n",
       "      <td>2016</td>\n",
       "      <td>03</td>\n",
       "      <td>30</td>\n",
       "      <td>0.0</td>\n",
       "      <td>0.0</td>\n",
       "      <td>0.0</td>\n",
       "    </tr>\n",
       "    <tr>\n",
       "      <th>2</th>\n",
       "      <td>17100444</td>\n",
       "      <td>NaN</td>\n",
       "      <td>NaN</td>\n",
       "      <td>NaN</td>\n",
       "      <td>2.0</td>\n",
       "      <td>3.0</td>\n",
       "      <td>NaN</td>\n",
       "      <td>NaN</td>\n",
       "      <td>2.0</td>\n",
       "      <td>NaN</td>\n",
       "      <td>...</td>\n",
       "      <td>NaN</td>\n",
       "      <td>NaN</td>\n",
       "      <td>6.111001e+13</td>\n",
       "      <td>0.0060</td>\n",
       "      <td>2016</td>\n",
       "      <td>05</td>\n",
       "      <td>27</td>\n",
       "      <td>0.0</td>\n",
       "      <td>0.0</td>\n",
       "      <td>0.0</td>\n",
       "    </tr>\n",
       "    <tr>\n",
       "      <th>3</th>\n",
       "      <td>17102429</td>\n",
       "      <td>NaN</td>\n",
       "      <td>NaN</td>\n",
       "      <td>NaN</td>\n",
       "      <td>1.5</td>\n",
       "      <td>2.0</td>\n",
       "      <td>NaN</td>\n",
       "      <td>NaN</td>\n",
       "      <td>1.5</td>\n",
       "      <td>NaN</td>\n",
       "      <td>...</td>\n",
       "      <td>NaN</td>\n",
       "      <td>NaN</td>\n",
       "      <td>6.111001e+13</td>\n",
       "      <td>-0.0566</td>\n",
       "      <td>2016</td>\n",
       "      <td>06</td>\n",
       "      <td>07</td>\n",
       "      <td>0.0</td>\n",
       "      <td>0.0</td>\n",
       "      <td>0.0</td>\n",
       "    </tr>\n",
       "    <tr>\n",
       "      <th>4</th>\n",
       "      <td>17109604</td>\n",
       "      <td>NaN</td>\n",
       "      <td>NaN</td>\n",
       "      <td>NaN</td>\n",
       "      <td>2.5</td>\n",
       "      <td>4.0</td>\n",
       "      <td>NaN</td>\n",
       "      <td>NaN</td>\n",
       "      <td>2.5</td>\n",
       "      <td>NaN</td>\n",
       "      <td>...</td>\n",
       "      <td>NaN</td>\n",
       "      <td>NaN</td>\n",
       "      <td>6.111001e+13</td>\n",
       "      <td>0.0573</td>\n",
       "      <td>2016</td>\n",
       "      <td>08</td>\n",
       "      <td>08</td>\n",
       "      <td>0.0</td>\n",
       "      <td>0.0</td>\n",
       "      <td>0.0</td>\n",
       "    </tr>\n",
       "  </tbody>\n",
       "</table>\n",
       "<p>5 rows × 64 columns</p>\n",
       "</div>"
      ],
      "text/plain": [
       "   parcelid  airconditioningtypeid  architecturalstyletypeid  basementsqft  \\\n",
       "0  17073783                    NaN                       NaN           NaN   \n",
       "1  17088994                    NaN                       NaN           NaN   \n",
       "2  17100444                    NaN                       NaN           NaN   \n",
       "3  17102429                    NaN                       NaN           NaN   \n",
       "4  17109604                    NaN                       NaN           NaN   \n",
       "\n",
       "   bathroomcnt  bedroomcnt  buildingclasstypeid  buildingqualitytypeid  \\\n",
       "0          2.5         3.0                  NaN                    NaN   \n",
       "1          1.0         2.0                  NaN                    NaN   \n",
       "2          2.0         3.0                  NaN                    NaN   \n",
       "3          1.5         2.0                  NaN                    NaN   \n",
       "4          2.5         4.0                  NaN                    NaN   \n",
       "\n",
       "   calculatedbathnbr  decktypeid         ...           taxdelinquencyflag  \\\n",
       "0                2.5         NaN         ...                          NaN   \n",
       "1                1.0         NaN         ...                          NaN   \n",
       "2                2.0         NaN         ...                          NaN   \n",
       "3                1.5         NaN         ...                          NaN   \n",
       "4                2.5         NaN         ...                          NaN   \n",
       "\n",
       "   taxdelinquencyyear  censustractandblock  logerror  year  month  day  \\\n",
       "0                 NaN         6.111002e+13    0.0953  2016     01   27   \n",
       "1                 NaN         6.111002e+13    0.0198  2016     03   30   \n",
       "2                 NaN         6.111001e+13    0.0060  2016     05   27   \n",
       "3                 NaN         6.111001e+13   -0.0566  2016     06   07   \n",
       "4                 NaN         6.111001e+13    0.0573  2016     08   08   \n",
       "\n",
       "   has_basement  has_pool  has_airconditioning  \n",
       "0           0.0       0.0                  0.0  \n",
       "1           0.0       0.0                  0.0  \n",
       "2           0.0       0.0                  0.0  \n",
       "3           0.0       0.0                  0.0  \n",
       "4           0.0       0.0                  0.0  \n",
       "\n",
       "[5 rows x 64 columns]"
      ]
     },
     "execution_count": 67,
     "metadata": {},
     "output_type": "execute_result"
    }
   ],
   "source": [
    "x_train.head()"
   ]
  },
  {
   "cell_type": "code",
   "execution_count": 68,
   "metadata": {
    "collapsed": true
   },
   "outputs": [],
   "source": [
    "#remove columns with insufficient data, duplicate columns\n",
    "drop_columns = ['airconditioningtypeid','basementsqft','architecturalstyletypeid','buildingclasstypeid','decktypeid','fips', 'taxdelinquencyyear','censustractandblock','pooltypeid10','pooltypeid2','pooltypeid7','propertyzoningdesc','rawcensustractandblock','regionidcounty','regionidneighborhood','regionidzip','regionidcity','regionidneighborhood','regionidzip','storytypeid','threequarterbathnbr','typeconstructiontypeid','unitcnt','yardbuildingsqft17','yardbuildingsqft26','fireplaceflag','numberofstories','finishedfloor1squarefeet','calculatedbathnbr','fullbathcnt','propertycountylandusecode','propertylandusetypeid','taxvaluedollarcnt','taxdelinquencyflag','has_pool','calculatedbathnbr']\n",
    "x_train=x_train.drop(drop_columns, axis=1)"
   ]
  },
  {
   "cell_type": "code",
   "execution_count": 69,
   "metadata": {},
   "outputs": [
    {
     "data": {
      "text/plain": [
       "(90275, 31)"
      ]
     },
     "execution_count": 69,
     "metadata": {},
     "output_type": "execute_result"
    }
   ],
   "source": [
    "x_train.shape"
   ]
  },
  {
   "cell_type": "code",
   "execution_count": 70,
   "metadata": {},
   "outputs": [
    {
     "data": {
      "text/html": [
       "<div>\n",
       "<style>\n",
       "    .dataframe thead tr:only-child th {\n",
       "        text-align: right;\n",
       "    }\n",
       "\n",
       "    .dataframe thead th {\n",
       "        text-align: left;\n",
       "    }\n",
       "\n",
       "    .dataframe tbody tr th {\n",
       "        vertical-align: top;\n",
       "    }\n",
       "</style>\n",
       "<table border=\"1\" class=\"dataframe\">\n",
       "  <thead>\n",
       "    <tr style=\"text-align: right;\">\n",
       "      <th></th>\n",
       "      <th>parcelid</th>\n",
       "      <th>bathroomcnt</th>\n",
       "      <th>bedroomcnt</th>\n",
       "      <th>buildingqualitytypeid</th>\n",
       "      <th>calculatedfinishedsquarefeet</th>\n",
       "      <th>finishedsquarefeet12</th>\n",
       "      <th>finishedsquarefeet13</th>\n",
       "      <th>finishedsquarefeet15</th>\n",
       "      <th>finishedsquarefeet50</th>\n",
       "      <th>finishedsquarefeet6</th>\n",
       "      <th>...</th>\n",
       "      <th>yearbuilt</th>\n",
       "      <th>structuretaxvaluedollarcnt</th>\n",
       "      <th>landtaxvaluedollarcnt</th>\n",
       "      <th>taxamount</th>\n",
       "      <th>logerror</th>\n",
       "      <th>year</th>\n",
       "      <th>month</th>\n",
       "      <th>day</th>\n",
       "      <th>has_basement</th>\n",
       "      <th>has_airconditioning</th>\n",
       "    </tr>\n",
       "  </thead>\n",
       "  <tbody>\n",
       "    <tr>\n",
       "      <th>0</th>\n",
       "      <td>17073783</td>\n",
       "      <td>2.5</td>\n",
       "      <td>3.0</td>\n",
       "      <td>NaN</td>\n",
       "      <td>1264.0</td>\n",
       "      <td>1264.0</td>\n",
       "      <td>NaN</td>\n",
       "      <td>NaN</td>\n",
       "      <td>548.0</td>\n",
       "      <td>NaN</td>\n",
       "      <td>...</td>\n",
       "      <td>1963.0</td>\n",
       "      <td>115087.0</td>\n",
       "      <td>76724.0</td>\n",
       "      <td>2015.06</td>\n",
       "      <td>0.0953</td>\n",
       "      <td>2016</td>\n",
       "      <td>01</td>\n",
       "      <td>27</td>\n",
       "      <td>0.0</td>\n",
       "      <td>0.0</td>\n",
       "    </tr>\n",
       "    <tr>\n",
       "      <th>1</th>\n",
       "      <td>17088994</td>\n",
       "      <td>1.0</td>\n",
       "      <td>2.0</td>\n",
       "      <td>NaN</td>\n",
       "      <td>777.0</td>\n",
       "      <td>777.0</td>\n",
       "      <td>NaN</td>\n",
       "      <td>NaN</td>\n",
       "      <td>777.0</td>\n",
       "      <td>NaN</td>\n",
       "      <td>...</td>\n",
       "      <td>1963.0</td>\n",
       "      <td>143809.0</td>\n",
       "      <td>95870.0</td>\n",
       "      <td>2581.30</td>\n",
       "      <td>0.0198</td>\n",
       "      <td>2016</td>\n",
       "      <td>03</td>\n",
       "      <td>30</td>\n",
       "      <td>0.0</td>\n",
       "      <td>0.0</td>\n",
       "    </tr>\n",
       "    <tr>\n",
       "      <th>2</th>\n",
       "      <td>17100444</td>\n",
       "      <td>2.0</td>\n",
       "      <td>3.0</td>\n",
       "      <td>NaN</td>\n",
       "      <td>1101.0</td>\n",
       "      <td>1101.0</td>\n",
       "      <td>NaN</td>\n",
       "      <td>NaN</td>\n",
       "      <td>1101.0</td>\n",
       "      <td>NaN</td>\n",
       "      <td>...</td>\n",
       "      <td>1963.0</td>\n",
       "      <td>33619.0</td>\n",
       "      <td>14234.0</td>\n",
       "      <td>591.64</td>\n",
       "      <td>0.0060</td>\n",
       "      <td>2016</td>\n",
       "      <td>05</td>\n",
       "      <td>27</td>\n",
       "      <td>0.0</td>\n",
       "      <td>0.0</td>\n",
       "    </tr>\n",
       "    <tr>\n",
       "      <th>3</th>\n",
       "      <td>17102429</td>\n",
       "      <td>1.5</td>\n",
       "      <td>2.0</td>\n",
       "      <td>NaN</td>\n",
       "      <td>1554.0</td>\n",
       "      <td>1554.0</td>\n",
       "      <td>NaN</td>\n",
       "      <td>NaN</td>\n",
       "      <td>1554.0</td>\n",
       "      <td>NaN</td>\n",
       "      <td>...</td>\n",
       "      <td>1948.0</td>\n",
       "      <td>45609.0</td>\n",
       "      <td>17305.0</td>\n",
       "      <td>682.78</td>\n",
       "      <td>-0.0566</td>\n",
       "      <td>2016</td>\n",
       "      <td>06</td>\n",
       "      <td>07</td>\n",
       "      <td>0.0</td>\n",
       "      <td>0.0</td>\n",
       "    </tr>\n",
       "    <tr>\n",
       "      <th>4</th>\n",
       "      <td>17109604</td>\n",
       "      <td>2.5</td>\n",
       "      <td>4.0</td>\n",
       "      <td>NaN</td>\n",
       "      <td>2415.0</td>\n",
       "      <td>2415.0</td>\n",
       "      <td>NaN</td>\n",
       "      <td>NaN</td>\n",
       "      <td>1305.0</td>\n",
       "      <td>NaN</td>\n",
       "      <td>...</td>\n",
       "      <td>1947.0</td>\n",
       "      <td>277000.0</td>\n",
       "      <td>277000.0</td>\n",
       "      <td>5886.92</td>\n",
       "      <td>0.0573</td>\n",
       "      <td>2016</td>\n",
       "      <td>08</td>\n",
       "      <td>08</td>\n",
       "      <td>0.0</td>\n",
       "      <td>0.0</td>\n",
       "    </tr>\n",
       "  </tbody>\n",
       "</table>\n",
       "<p>5 rows × 31 columns</p>\n",
       "</div>"
      ],
      "text/plain": [
       "   parcelid  bathroomcnt  bedroomcnt  buildingqualitytypeid  \\\n",
       "0  17073783          2.5         3.0                    NaN   \n",
       "1  17088994          1.0         2.0                    NaN   \n",
       "2  17100444          2.0         3.0                    NaN   \n",
       "3  17102429          1.5         2.0                    NaN   \n",
       "4  17109604          2.5         4.0                    NaN   \n",
       "\n",
       "   calculatedfinishedsquarefeet  finishedsquarefeet12  finishedsquarefeet13  \\\n",
       "0                        1264.0                1264.0                   NaN   \n",
       "1                         777.0                 777.0                   NaN   \n",
       "2                        1101.0                1101.0                   NaN   \n",
       "3                        1554.0                1554.0                   NaN   \n",
       "4                        2415.0                2415.0                   NaN   \n",
       "\n",
       "   finishedsquarefeet15  finishedsquarefeet50  finishedsquarefeet6  \\\n",
       "0                   NaN                 548.0                  NaN   \n",
       "1                   NaN                 777.0                  NaN   \n",
       "2                   NaN                1101.0                  NaN   \n",
       "3                   NaN                1554.0                  NaN   \n",
       "4                   NaN                1305.0                  NaN   \n",
       "\n",
       "          ...           yearbuilt  structuretaxvaluedollarcnt  \\\n",
       "0         ...              1963.0                    115087.0   \n",
       "1         ...              1963.0                    143809.0   \n",
       "2         ...              1963.0                     33619.0   \n",
       "3         ...              1948.0                     45609.0   \n",
       "4         ...              1947.0                    277000.0   \n",
       "\n",
       "   landtaxvaluedollarcnt  taxamount  logerror  year  month  day  has_basement  \\\n",
       "0                76724.0    2015.06    0.0953  2016     01   27           0.0   \n",
       "1                95870.0    2581.30    0.0198  2016     03   30           0.0   \n",
       "2                14234.0     591.64    0.0060  2016     05   27           0.0   \n",
       "3                17305.0     682.78   -0.0566  2016     06   07           0.0   \n",
       "4               277000.0    5886.92    0.0573  2016     08   08           0.0   \n",
       "\n",
       "   has_airconditioning  \n",
       "0                  0.0  \n",
       "1                  0.0  \n",
       "2                  0.0  \n",
       "3                  0.0  \n",
       "4                  0.0  \n",
       "\n",
       "[5 rows x 31 columns]"
      ]
     },
     "execution_count": 70,
     "metadata": {},
     "output_type": "execute_result"
    }
   ],
   "source": [
    "x_train.head()"
   ]
  },
  {
   "cell_type": "code",
   "execution_count": 71,
   "metadata": {
    "collapsed": true
   },
   "outputs": [],
   "source": [
    "finifhed_square_feet = x_train.loc[:, 'finishedsquarefeet12':'finishedsquarefeet6']"
   ]
  },
  {
   "cell_type": "code",
   "execution_count": 72,
   "metadata": {},
   "outputs": [
    {
     "data": {
      "text/html": [
       "<div>\n",
       "<style>\n",
       "    .dataframe thead tr:only-child th {\n",
       "        text-align: right;\n",
       "    }\n",
       "\n",
       "    .dataframe thead th {\n",
       "        text-align: left;\n",
       "    }\n",
       "\n",
       "    .dataframe tbody tr th {\n",
       "        vertical-align: top;\n",
       "    }\n",
       "</style>\n",
       "<table border=\"1\" class=\"dataframe\">\n",
       "  <thead>\n",
       "    <tr style=\"text-align: right;\">\n",
       "      <th></th>\n",
       "      <th>finishedsquarefeet12</th>\n",
       "      <th>finishedsquarefeet13</th>\n",
       "      <th>finishedsquarefeet15</th>\n",
       "      <th>finishedsquarefeet50</th>\n",
       "      <th>finishedsquarefeet6</th>\n",
       "    </tr>\n",
       "  </thead>\n",
       "  <tbody>\n",
       "    <tr>\n",
       "      <th>0</th>\n",
       "      <td>1264.0</td>\n",
       "      <td>NaN</td>\n",
       "      <td>NaN</td>\n",
       "      <td>548.0</td>\n",
       "      <td>NaN</td>\n",
       "    </tr>\n",
       "    <tr>\n",
       "      <th>1</th>\n",
       "      <td>777.0</td>\n",
       "      <td>NaN</td>\n",
       "      <td>NaN</td>\n",
       "      <td>777.0</td>\n",
       "      <td>NaN</td>\n",
       "    </tr>\n",
       "    <tr>\n",
       "      <th>2</th>\n",
       "      <td>1101.0</td>\n",
       "      <td>NaN</td>\n",
       "      <td>NaN</td>\n",
       "      <td>1101.0</td>\n",
       "      <td>NaN</td>\n",
       "    </tr>\n",
       "    <tr>\n",
       "      <th>3</th>\n",
       "      <td>1554.0</td>\n",
       "      <td>NaN</td>\n",
       "      <td>NaN</td>\n",
       "      <td>1554.0</td>\n",
       "      <td>NaN</td>\n",
       "    </tr>\n",
       "    <tr>\n",
       "      <th>4</th>\n",
       "      <td>2415.0</td>\n",
       "      <td>NaN</td>\n",
       "      <td>NaN</td>\n",
       "      <td>1305.0</td>\n",
       "      <td>NaN</td>\n",
       "    </tr>\n",
       "  </tbody>\n",
       "</table>\n",
       "</div>"
      ],
      "text/plain": [
       "   finishedsquarefeet12  finishedsquarefeet13  finishedsquarefeet15  \\\n",
       "0                1264.0                   NaN                   NaN   \n",
       "1                 777.0                   NaN                   NaN   \n",
       "2                1101.0                   NaN                   NaN   \n",
       "3                1554.0                   NaN                   NaN   \n",
       "4                2415.0                   NaN                   NaN   \n",
       "\n",
       "   finishedsquarefeet50  finishedsquarefeet6  \n",
       "0                 548.0                  NaN  \n",
       "1                 777.0                  NaN  \n",
       "2                1101.0                  NaN  \n",
       "3                1554.0                  NaN  \n",
       "4                1305.0                  NaN  "
      ]
     },
     "execution_count": 72,
     "metadata": {},
     "output_type": "execute_result"
    }
   ],
   "source": [
    "finifhed_square_feet.head()"
   ]
  },
  {
   "cell_type": "code",
   "execution_count": 73,
   "metadata": {
    "collapsed": true
   },
   "outputs": [],
   "source": [
    "a=finifhed_square_feet[[\"finishedsquarefeet12\", \"finishedsquarefeet13\",\"finishedsquarefeet15\",\"finishedsquarefeet50\",\"finishedsquarefeet6\"]].max(axis=1)"
   ]
  },
  {
   "cell_type": "code",
   "execution_count": 74,
   "metadata": {},
   "outputs": [
    {
     "data": {
      "text/plain": [
       "0    1264.0\n",
       "1     777.0\n",
       "2    1101.0\n",
       "3    1554.0\n",
       "4    2415.0\n",
       "dtype: float64"
      ]
     },
     "execution_count": 74,
     "metadata": {},
     "output_type": "execute_result"
    }
   ],
   "source": [
    "a.head()"
   ]
  },
  {
   "cell_type": "code",
   "execution_count": 75,
   "metadata": {
    "collapsed": true
   },
   "outputs": [],
   "source": [
    "x_train['finished_sq_ft'] =a"
   ]
  },
  {
   "cell_type": "code",
   "execution_count": 76,
   "metadata": {},
   "outputs": [
    {
     "data": {
      "text/html": [
       "<div>\n",
       "<style>\n",
       "    .dataframe thead tr:only-child th {\n",
       "        text-align: right;\n",
       "    }\n",
       "\n",
       "    .dataframe thead th {\n",
       "        text-align: left;\n",
       "    }\n",
       "\n",
       "    .dataframe tbody tr th {\n",
       "        vertical-align: top;\n",
       "    }\n",
       "</style>\n",
       "<table border=\"1\" class=\"dataframe\">\n",
       "  <thead>\n",
       "    <tr style=\"text-align: right;\">\n",
       "      <th></th>\n",
       "      <th>parcelid</th>\n",
       "      <th>bathroomcnt</th>\n",
       "      <th>bedroomcnt</th>\n",
       "      <th>buildingqualitytypeid</th>\n",
       "      <th>calculatedfinishedsquarefeet</th>\n",
       "      <th>finishedsquarefeet12</th>\n",
       "      <th>finishedsquarefeet13</th>\n",
       "      <th>finishedsquarefeet15</th>\n",
       "      <th>finishedsquarefeet50</th>\n",
       "      <th>finishedsquarefeet6</th>\n",
       "      <th>...</th>\n",
       "      <th>structuretaxvaluedollarcnt</th>\n",
       "      <th>landtaxvaluedollarcnt</th>\n",
       "      <th>taxamount</th>\n",
       "      <th>logerror</th>\n",
       "      <th>year</th>\n",
       "      <th>month</th>\n",
       "      <th>day</th>\n",
       "      <th>has_basement</th>\n",
       "      <th>has_airconditioning</th>\n",
       "      <th>finished_sq_ft</th>\n",
       "    </tr>\n",
       "  </thead>\n",
       "  <tbody>\n",
       "    <tr>\n",
       "      <th>0</th>\n",
       "      <td>17073783</td>\n",
       "      <td>2.5</td>\n",
       "      <td>3.0</td>\n",
       "      <td>NaN</td>\n",
       "      <td>1264.0</td>\n",
       "      <td>1264.0</td>\n",
       "      <td>NaN</td>\n",
       "      <td>NaN</td>\n",
       "      <td>548.0</td>\n",
       "      <td>NaN</td>\n",
       "      <td>...</td>\n",
       "      <td>115087.0</td>\n",
       "      <td>76724.0</td>\n",
       "      <td>2015.06</td>\n",
       "      <td>0.0953</td>\n",
       "      <td>2016</td>\n",
       "      <td>01</td>\n",
       "      <td>27</td>\n",
       "      <td>0.0</td>\n",
       "      <td>0.0</td>\n",
       "      <td>1264.0</td>\n",
       "    </tr>\n",
       "    <tr>\n",
       "      <th>1</th>\n",
       "      <td>17088994</td>\n",
       "      <td>1.0</td>\n",
       "      <td>2.0</td>\n",
       "      <td>NaN</td>\n",
       "      <td>777.0</td>\n",
       "      <td>777.0</td>\n",
       "      <td>NaN</td>\n",
       "      <td>NaN</td>\n",
       "      <td>777.0</td>\n",
       "      <td>NaN</td>\n",
       "      <td>...</td>\n",
       "      <td>143809.0</td>\n",
       "      <td>95870.0</td>\n",
       "      <td>2581.30</td>\n",
       "      <td>0.0198</td>\n",
       "      <td>2016</td>\n",
       "      <td>03</td>\n",
       "      <td>30</td>\n",
       "      <td>0.0</td>\n",
       "      <td>0.0</td>\n",
       "      <td>777.0</td>\n",
       "    </tr>\n",
       "    <tr>\n",
       "      <th>2</th>\n",
       "      <td>17100444</td>\n",
       "      <td>2.0</td>\n",
       "      <td>3.0</td>\n",
       "      <td>NaN</td>\n",
       "      <td>1101.0</td>\n",
       "      <td>1101.0</td>\n",
       "      <td>NaN</td>\n",
       "      <td>NaN</td>\n",
       "      <td>1101.0</td>\n",
       "      <td>NaN</td>\n",
       "      <td>...</td>\n",
       "      <td>33619.0</td>\n",
       "      <td>14234.0</td>\n",
       "      <td>591.64</td>\n",
       "      <td>0.0060</td>\n",
       "      <td>2016</td>\n",
       "      <td>05</td>\n",
       "      <td>27</td>\n",
       "      <td>0.0</td>\n",
       "      <td>0.0</td>\n",
       "      <td>1101.0</td>\n",
       "    </tr>\n",
       "    <tr>\n",
       "      <th>3</th>\n",
       "      <td>17102429</td>\n",
       "      <td>1.5</td>\n",
       "      <td>2.0</td>\n",
       "      <td>NaN</td>\n",
       "      <td>1554.0</td>\n",
       "      <td>1554.0</td>\n",
       "      <td>NaN</td>\n",
       "      <td>NaN</td>\n",
       "      <td>1554.0</td>\n",
       "      <td>NaN</td>\n",
       "      <td>...</td>\n",
       "      <td>45609.0</td>\n",
       "      <td>17305.0</td>\n",
       "      <td>682.78</td>\n",
       "      <td>-0.0566</td>\n",
       "      <td>2016</td>\n",
       "      <td>06</td>\n",
       "      <td>07</td>\n",
       "      <td>0.0</td>\n",
       "      <td>0.0</td>\n",
       "      <td>1554.0</td>\n",
       "    </tr>\n",
       "    <tr>\n",
       "      <th>4</th>\n",
       "      <td>17109604</td>\n",
       "      <td>2.5</td>\n",
       "      <td>4.0</td>\n",
       "      <td>NaN</td>\n",
       "      <td>2415.0</td>\n",
       "      <td>2415.0</td>\n",
       "      <td>NaN</td>\n",
       "      <td>NaN</td>\n",
       "      <td>1305.0</td>\n",
       "      <td>NaN</td>\n",
       "      <td>...</td>\n",
       "      <td>277000.0</td>\n",
       "      <td>277000.0</td>\n",
       "      <td>5886.92</td>\n",
       "      <td>0.0573</td>\n",
       "      <td>2016</td>\n",
       "      <td>08</td>\n",
       "      <td>08</td>\n",
       "      <td>0.0</td>\n",
       "      <td>0.0</td>\n",
       "      <td>2415.0</td>\n",
       "    </tr>\n",
       "  </tbody>\n",
       "</table>\n",
       "<p>5 rows × 32 columns</p>\n",
       "</div>"
      ],
      "text/plain": [
       "   parcelid  bathroomcnt  bedroomcnt  buildingqualitytypeid  \\\n",
       "0  17073783          2.5         3.0                    NaN   \n",
       "1  17088994          1.0         2.0                    NaN   \n",
       "2  17100444          2.0         3.0                    NaN   \n",
       "3  17102429          1.5         2.0                    NaN   \n",
       "4  17109604          2.5         4.0                    NaN   \n",
       "\n",
       "   calculatedfinishedsquarefeet  finishedsquarefeet12  finishedsquarefeet13  \\\n",
       "0                        1264.0                1264.0                   NaN   \n",
       "1                         777.0                 777.0                   NaN   \n",
       "2                        1101.0                1101.0                   NaN   \n",
       "3                        1554.0                1554.0                   NaN   \n",
       "4                        2415.0                2415.0                   NaN   \n",
       "\n",
       "   finishedsquarefeet15  finishedsquarefeet50  finishedsquarefeet6  \\\n",
       "0                   NaN                 548.0                  NaN   \n",
       "1                   NaN                 777.0                  NaN   \n",
       "2                   NaN                1101.0                  NaN   \n",
       "3                   NaN                1554.0                  NaN   \n",
       "4                   NaN                1305.0                  NaN   \n",
       "\n",
       "        ...        structuretaxvaluedollarcnt  landtaxvaluedollarcnt  \\\n",
       "0       ...                          115087.0                76724.0   \n",
       "1       ...                          143809.0                95870.0   \n",
       "2       ...                           33619.0                14234.0   \n",
       "3       ...                           45609.0                17305.0   \n",
       "4       ...                          277000.0               277000.0   \n",
       "\n",
       "   taxamount  logerror  year  month  day  has_basement  has_airconditioning  \\\n",
       "0    2015.06    0.0953  2016     01   27           0.0                  0.0   \n",
       "1    2581.30    0.0198  2016     03   30           0.0                  0.0   \n",
       "2     591.64    0.0060  2016     05   27           0.0                  0.0   \n",
       "3     682.78   -0.0566  2016     06   07           0.0                  0.0   \n",
       "4    5886.92    0.0573  2016     08   08           0.0                  0.0   \n",
       "\n",
       "   finished_sq_ft  \n",
       "0          1264.0  \n",
       "1           777.0  \n",
       "2          1101.0  \n",
       "3          1554.0  \n",
       "4          2415.0  \n",
       "\n",
       "[5 rows x 32 columns]"
      ]
     },
     "execution_count": 76,
     "metadata": {},
     "output_type": "execute_result"
    }
   ],
   "source": [
    "x_train.head()"
   ]
  },
  {
   "cell_type": "code",
   "execution_count": 77,
   "metadata": {
    "collapsed": true
   },
   "outputs": [],
   "source": [
    "#remove the extra finished square feet columns\n",
    "drop_columns = ['finishedsquarefeet12','finishedsquarefeet13','finishedsquarefeet15','finishedsquarefeet50','finishedsquarefeet6']\n",
    "x_train=x_train.drop(drop_columns, axis=1)"
   ]
  },
  {
   "cell_type": "code",
   "execution_count": 78,
   "metadata": {},
   "outputs": [
    {
     "data": {
      "text/html": [
       "<div>\n",
       "<style>\n",
       "    .dataframe thead tr:only-child th {\n",
       "        text-align: right;\n",
       "    }\n",
       "\n",
       "    .dataframe thead th {\n",
       "        text-align: left;\n",
       "    }\n",
       "\n",
       "    .dataframe tbody tr th {\n",
       "        vertical-align: top;\n",
       "    }\n",
       "</style>\n",
       "<table border=\"1\" class=\"dataframe\">\n",
       "  <thead>\n",
       "    <tr style=\"text-align: right;\">\n",
       "      <th></th>\n",
       "      <th>parcelid</th>\n",
       "      <th>bathroomcnt</th>\n",
       "      <th>bedroomcnt</th>\n",
       "      <th>buildingqualitytypeid</th>\n",
       "      <th>calculatedfinishedsquarefeet</th>\n",
       "      <th>fireplacecnt</th>\n",
       "      <th>garagecarcnt</th>\n",
       "      <th>garagetotalsqft</th>\n",
       "      <th>hashottuborspa</th>\n",
       "      <th>heatingorsystemtypeid</th>\n",
       "      <th>...</th>\n",
       "      <th>structuretaxvaluedollarcnt</th>\n",
       "      <th>landtaxvaluedollarcnt</th>\n",
       "      <th>taxamount</th>\n",
       "      <th>logerror</th>\n",
       "      <th>year</th>\n",
       "      <th>month</th>\n",
       "      <th>day</th>\n",
       "      <th>has_basement</th>\n",
       "      <th>has_airconditioning</th>\n",
       "      <th>finished_sq_ft</th>\n",
       "    </tr>\n",
       "  </thead>\n",
       "  <tbody>\n",
       "    <tr>\n",
       "      <th>0</th>\n",
       "      <td>17073783</td>\n",
       "      <td>2.5</td>\n",
       "      <td>3.0</td>\n",
       "      <td>NaN</td>\n",
       "      <td>1264.0</td>\n",
       "      <td>0.0</td>\n",
       "      <td>2.0</td>\n",
       "      <td>0.0</td>\n",
       "      <td>0.0</td>\n",
       "      <td>NaN</td>\n",
       "      <td>...</td>\n",
       "      <td>115087.0</td>\n",
       "      <td>76724.0</td>\n",
       "      <td>2015.06</td>\n",
       "      <td>0.0953</td>\n",
       "      <td>2016</td>\n",
       "      <td>01</td>\n",
       "      <td>27</td>\n",
       "      <td>0.0</td>\n",
       "      <td>0.0</td>\n",
       "      <td>1264.0</td>\n",
       "    </tr>\n",
       "    <tr>\n",
       "      <th>1</th>\n",
       "      <td>17088994</td>\n",
       "      <td>1.0</td>\n",
       "      <td>2.0</td>\n",
       "      <td>NaN</td>\n",
       "      <td>777.0</td>\n",
       "      <td>0.0</td>\n",
       "      <td>1.0</td>\n",
       "      <td>0.0</td>\n",
       "      <td>0.0</td>\n",
       "      <td>NaN</td>\n",
       "      <td>...</td>\n",
       "      <td>143809.0</td>\n",
       "      <td>95870.0</td>\n",
       "      <td>2581.30</td>\n",
       "      <td>0.0198</td>\n",
       "      <td>2016</td>\n",
       "      <td>03</td>\n",
       "      <td>30</td>\n",
       "      <td>0.0</td>\n",
       "      <td>0.0</td>\n",
       "      <td>777.0</td>\n",
       "    </tr>\n",
       "    <tr>\n",
       "      <th>2</th>\n",
       "      <td>17100444</td>\n",
       "      <td>2.0</td>\n",
       "      <td>3.0</td>\n",
       "      <td>NaN</td>\n",
       "      <td>1101.0</td>\n",
       "      <td>0.0</td>\n",
       "      <td>2.0</td>\n",
       "      <td>441.0</td>\n",
       "      <td>0.0</td>\n",
       "      <td>NaN</td>\n",
       "      <td>...</td>\n",
       "      <td>33619.0</td>\n",
       "      <td>14234.0</td>\n",
       "      <td>591.64</td>\n",
       "      <td>0.0060</td>\n",
       "      <td>2016</td>\n",
       "      <td>05</td>\n",
       "      <td>27</td>\n",
       "      <td>0.0</td>\n",
       "      <td>0.0</td>\n",
       "      <td>1101.0</td>\n",
       "    </tr>\n",
       "    <tr>\n",
       "      <th>3</th>\n",
       "      <td>17102429</td>\n",
       "      <td>1.5</td>\n",
       "      <td>2.0</td>\n",
       "      <td>NaN</td>\n",
       "      <td>1554.0</td>\n",
       "      <td>1.0</td>\n",
       "      <td>2.0</td>\n",
       "      <td>460.0</td>\n",
       "      <td>0.0</td>\n",
       "      <td>NaN</td>\n",
       "      <td>...</td>\n",
       "      <td>45609.0</td>\n",
       "      <td>17305.0</td>\n",
       "      <td>682.78</td>\n",
       "      <td>-0.0566</td>\n",
       "      <td>2016</td>\n",
       "      <td>06</td>\n",
       "      <td>07</td>\n",
       "      <td>0.0</td>\n",
       "      <td>0.0</td>\n",
       "      <td>1554.0</td>\n",
       "    </tr>\n",
       "    <tr>\n",
       "      <th>4</th>\n",
       "      <td>17109604</td>\n",
       "      <td>2.5</td>\n",
       "      <td>4.0</td>\n",
       "      <td>NaN</td>\n",
       "      <td>2415.0</td>\n",
       "      <td>1.0</td>\n",
       "      <td>2.0</td>\n",
       "      <td>665.0</td>\n",
       "      <td>0.0</td>\n",
       "      <td>NaN</td>\n",
       "      <td>...</td>\n",
       "      <td>277000.0</td>\n",
       "      <td>277000.0</td>\n",
       "      <td>5886.92</td>\n",
       "      <td>0.0573</td>\n",
       "      <td>2016</td>\n",
       "      <td>08</td>\n",
       "      <td>08</td>\n",
       "      <td>0.0</td>\n",
       "      <td>0.0</td>\n",
       "      <td>2415.0</td>\n",
       "    </tr>\n",
       "  </tbody>\n",
       "</table>\n",
       "<p>5 rows × 27 columns</p>\n",
       "</div>"
      ],
      "text/plain": [
       "   parcelid  bathroomcnt  bedroomcnt  buildingqualitytypeid  \\\n",
       "0  17073783          2.5         3.0                    NaN   \n",
       "1  17088994          1.0         2.0                    NaN   \n",
       "2  17100444          2.0         3.0                    NaN   \n",
       "3  17102429          1.5         2.0                    NaN   \n",
       "4  17109604          2.5         4.0                    NaN   \n",
       "\n",
       "   calculatedfinishedsquarefeet  fireplacecnt  garagecarcnt  garagetotalsqft  \\\n",
       "0                        1264.0           0.0           2.0              0.0   \n",
       "1                         777.0           0.0           1.0              0.0   \n",
       "2                        1101.0           0.0           2.0            441.0   \n",
       "3                        1554.0           1.0           2.0            460.0   \n",
       "4                        2415.0           1.0           2.0            665.0   \n",
       "\n",
       "   hashottuborspa  heatingorsystemtypeid       ...        \\\n",
       "0             0.0                    NaN       ...         \n",
       "1             0.0                    NaN       ...         \n",
       "2             0.0                    NaN       ...         \n",
       "3             0.0                    NaN       ...         \n",
       "4             0.0                    NaN       ...         \n",
       "\n",
       "   structuretaxvaluedollarcnt  landtaxvaluedollarcnt  taxamount  logerror  \\\n",
       "0                    115087.0                76724.0    2015.06    0.0953   \n",
       "1                    143809.0                95870.0    2581.30    0.0198   \n",
       "2                     33619.0                14234.0     591.64    0.0060   \n",
       "3                     45609.0                17305.0     682.78   -0.0566   \n",
       "4                    277000.0               277000.0    5886.92    0.0573   \n",
       "\n",
       "   year  month  day  has_basement  has_airconditioning  finished_sq_ft  \n",
       "0  2016     01   27           0.0                  0.0          1264.0  \n",
       "1  2016     03   30           0.0                  0.0           777.0  \n",
       "2  2016     05   27           0.0                  0.0          1101.0  \n",
       "3  2016     06   07           0.0                  0.0          1554.0  \n",
       "4  2016     08   08           0.0                  0.0          2415.0  \n",
       "\n",
       "[5 rows x 27 columns]"
      ]
     },
     "execution_count": 78,
     "metadata": {},
     "output_type": "execute_result"
    }
   ],
   "source": [
    "x_train.head()"
   ]
  },
  {
   "cell_type": "code",
   "execution_count": 79,
   "metadata": {},
   "outputs": [
    {
     "data": {
      "text/plain": [
       "(90275, 27)"
      ]
     },
     "execution_count": 79,
     "metadata": {},
     "output_type": "execute_result"
    }
   ],
   "source": [
    "x_train.shape"
   ]
  },
  {
   "cell_type": "code",
   "execution_count": 80,
   "metadata": {
    "collapsed": true
   },
   "outputs": [],
   "source": [
    "#entering zero for NAN values of certain columns\n",
    "x_train['buildingqualitytypeid'] = x_train['buildingqualitytypeid'].apply(lambda x: 0 if np.isnan(x) else x).astype(float)\n",
    "x_train['heatingorsystemtypeid'] = x_train['heatingorsystemtypeid'].apply(lambda x: 0 if np.isnan(x) else x).astype(float)\n",
    "x_train['poolcnt'] = x_train['poolcnt'].apply(lambda x: 0 if np.isnan(x) else x).astype(float)\n",
    "x_train['poolsizesum'] = x_train['poolsizesum'].apply(lambda x: 0 if np.isnan(x) else x).astype(float)\n",
    "\n"
   ]
  },
  {
   "cell_type": "code",
   "execution_count": 81,
   "metadata": {},
   "outputs": [
    {
     "data": {
      "text/html": [
       "<div>\n",
       "<style>\n",
       "    .dataframe thead tr:only-child th {\n",
       "        text-align: right;\n",
       "    }\n",
       "\n",
       "    .dataframe thead th {\n",
       "        text-align: left;\n",
       "    }\n",
       "\n",
       "    .dataframe tbody tr th {\n",
       "        vertical-align: top;\n",
       "    }\n",
       "</style>\n",
       "<table border=\"1\" class=\"dataframe\">\n",
       "  <thead>\n",
       "    <tr style=\"text-align: right;\">\n",
       "      <th></th>\n",
       "      <th>parcelid</th>\n",
       "      <th>bathroomcnt</th>\n",
       "      <th>bedroomcnt</th>\n",
       "      <th>buildingqualitytypeid</th>\n",
       "      <th>calculatedfinishedsquarefeet</th>\n",
       "      <th>fireplacecnt</th>\n",
       "      <th>garagecarcnt</th>\n",
       "      <th>garagetotalsqft</th>\n",
       "      <th>hashottuborspa</th>\n",
       "      <th>heatingorsystemtypeid</th>\n",
       "      <th>...</th>\n",
       "      <th>structuretaxvaluedollarcnt</th>\n",
       "      <th>landtaxvaluedollarcnt</th>\n",
       "      <th>taxamount</th>\n",
       "      <th>logerror</th>\n",
       "      <th>year</th>\n",
       "      <th>month</th>\n",
       "      <th>day</th>\n",
       "      <th>has_basement</th>\n",
       "      <th>has_airconditioning</th>\n",
       "      <th>finished_sq_ft</th>\n",
       "    </tr>\n",
       "  </thead>\n",
       "  <tbody>\n",
       "    <tr>\n",
       "      <th>0</th>\n",
       "      <td>17073783</td>\n",
       "      <td>2.5</td>\n",
       "      <td>3.0</td>\n",
       "      <td>0.0</td>\n",
       "      <td>1264.0</td>\n",
       "      <td>0.0</td>\n",
       "      <td>2.0</td>\n",
       "      <td>0.0</td>\n",
       "      <td>0.0</td>\n",
       "      <td>0.0</td>\n",
       "      <td>...</td>\n",
       "      <td>115087.0</td>\n",
       "      <td>76724.0</td>\n",
       "      <td>2015.06</td>\n",
       "      <td>0.0953</td>\n",
       "      <td>2016</td>\n",
       "      <td>01</td>\n",
       "      <td>27</td>\n",
       "      <td>0.0</td>\n",
       "      <td>0.0</td>\n",
       "      <td>1264.0</td>\n",
       "    </tr>\n",
       "    <tr>\n",
       "      <th>1</th>\n",
       "      <td>17088994</td>\n",
       "      <td>1.0</td>\n",
       "      <td>2.0</td>\n",
       "      <td>0.0</td>\n",
       "      <td>777.0</td>\n",
       "      <td>0.0</td>\n",
       "      <td>1.0</td>\n",
       "      <td>0.0</td>\n",
       "      <td>0.0</td>\n",
       "      <td>0.0</td>\n",
       "      <td>...</td>\n",
       "      <td>143809.0</td>\n",
       "      <td>95870.0</td>\n",
       "      <td>2581.30</td>\n",
       "      <td>0.0198</td>\n",
       "      <td>2016</td>\n",
       "      <td>03</td>\n",
       "      <td>30</td>\n",
       "      <td>0.0</td>\n",
       "      <td>0.0</td>\n",
       "      <td>777.0</td>\n",
       "    </tr>\n",
       "    <tr>\n",
       "      <th>2</th>\n",
       "      <td>17100444</td>\n",
       "      <td>2.0</td>\n",
       "      <td>3.0</td>\n",
       "      <td>0.0</td>\n",
       "      <td>1101.0</td>\n",
       "      <td>0.0</td>\n",
       "      <td>2.0</td>\n",
       "      <td>441.0</td>\n",
       "      <td>0.0</td>\n",
       "      <td>0.0</td>\n",
       "      <td>...</td>\n",
       "      <td>33619.0</td>\n",
       "      <td>14234.0</td>\n",
       "      <td>591.64</td>\n",
       "      <td>0.0060</td>\n",
       "      <td>2016</td>\n",
       "      <td>05</td>\n",
       "      <td>27</td>\n",
       "      <td>0.0</td>\n",
       "      <td>0.0</td>\n",
       "      <td>1101.0</td>\n",
       "    </tr>\n",
       "    <tr>\n",
       "      <th>3</th>\n",
       "      <td>17102429</td>\n",
       "      <td>1.5</td>\n",
       "      <td>2.0</td>\n",
       "      <td>0.0</td>\n",
       "      <td>1554.0</td>\n",
       "      <td>1.0</td>\n",
       "      <td>2.0</td>\n",
       "      <td>460.0</td>\n",
       "      <td>0.0</td>\n",
       "      <td>0.0</td>\n",
       "      <td>...</td>\n",
       "      <td>45609.0</td>\n",
       "      <td>17305.0</td>\n",
       "      <td>682.78</td>\n",
       "      <td>-0.0566</td>\n",
       "      <td>2016</td>\n",
       "      <td>06</td>\n",
       "      <td>07</td>\n",
       "      <td>0.0</td>\n",
       "      <td>0.0</td>\n",
       "      <td>1554.0</td>\n",
       "    </tr>\n",
       "    <tr>\n",
       "      <th>4</th>\n",
       "      <td>17109604</td>\n",
       "      <td>2.5</td>\n",
       "      <td>4.0</td>\n",
       "      <td>0.0</td>\n",
       "      <td>2415.0</td>\n",
       "      <td>1.0</td>\n",
       "      <td>2.0</td>\n",
       "      <td>665.0</td>\n",
       "      <td>0.0</td>\n",
       "      <td>0.0</td>\n",
       "      <td>...</td>\n",
       "      <td>277000.0</td>\n",
       "      <td>277000.0</td>\n",
       "      <td>5886.92</td>\n",
       "      <td>0.0573</td>\n",
       "      <td>2016</td>\n",
       "      <td>08</td>\n",
       "      <td>08</td>\n",
       "      <td>0.0</td>\n",
       "      <td>0.0</td>\n",
       "      <td>2415.0</td>\n",
       "    </tr>\n",
       "  </tbody>\n",
       "</table>\n",
       "<p>5 rows × 27 columns</p>\n",
       "</div>"
      ],
      "text/plain": [
       "   parcelid  bathroomcnt  bedroomcnt  buildingqualitytypeid  \\\n",
       "0  17073783          2.5         3.0                    0.0   \n",
       "1  17088994          1.0         2.0                    0.0   \n",
       "2  17100444          2.0         3.0                    0.0   \n",
       "3  17102429          1.5         2.0                    0.0   \n",
       "4  17109604          2.5         4.0                    0.0   \n",
       "\n",
       "   calculatedfinishedsquarefeet  fireplacecnt  garagecarcnt  garagetotalsqft  \\\n",
       "0                        1264.0           0.0           2.0              0.0   \n",
       "1                         777.0           0.0           1.0              0.0   \n",
       "2                        1101.0           0.0           2.0            441.0   \n",
       "3                        1554.0           1.0           2.0            460.0   \n",
       "4                        2415.0           1.0           2.0            665.0   \n",
       "\n",
       "   hashottuborspa  heatingorsystemtypeid       ...        \\\n",
       "0             0.0                    0.0       ...         \n",
       "1             0.0                    0.0       ...         \n",
       "2             0.0                    0.0       ...         \n",
       "3             0.0                    0.0       ...         \n",
       "4             0.0                    0.0       ...         \n",
       "\n",
       "   structuretaxvaluedollarcnt  landtaxvaluedollarcnt  taxamount  logerror  \\\n",
       "0                    115087.0                76724.0    2015.06    0.0953   \n",
       "1                    143809.0                95870.0    2581.30    0.0198   \n",
       "2                     33619.0                14234.0     591.64    0.0060   \n",
       "3                     45609.0                17305.0     682.78   -0.0566   \n",
       "4                    277000.0               277000.0    5886.92    0.0573   \n",
       "\n",
       "   year  month  day  has_basement  has_airconditioning  finished_sq_ft  \n",
       "0  2016     01   27           0.0                  0.0          1264.0  \n",
       "1  2016     03   30           0.0                  0.0           777.0  \n",
       "2  2016     05   27           0.0                  0.0          1101.0  \n",
       "3  2016     06   07           0.0                  0.0          1554.0  \n",
       "4  2016     08   08           0.0                  0.0          2415.0  \n",
       "\n",
       "[5 rows x 27 columns]"
      ]
     },
     "execution_count": 81,
     "metadata": {},
     "output_type": "execute_result"
    }
   ],
   "source": [
    "x_train.head()"
   ]
  },
  {
   "cell_type": "code",
   "execution_count": 82,
   "metadata": {},
   "outputs": [],
   "source": [
    "x_train=x_train.drop(['finished_sq_ft'], axis=1)\n",
    "x_train=x_train.drop(['logerror'], axis=1)"
   ]
  },
  {
   "cell_type": "code",
   "execution_count": 83,
   "metadata": {},
   "outputs": [],
   "source": [
    "\n",
    "x_train=x_train.drop(['parcelid'], axis=1)"
   ]
  },
  {
   "cell_type": "markdown",
   "metadata": {},
   "source": [
    "We will now scale the data to ensure that each property is able to provide equal value to our learning algorithm."
   ]
  },
  {
   "cell_type": "code",
   "execution_count": 84,
   "metadata": {
    "collapsed": true
   },
   "outputs": [],
   "source": [
    "x_train.to_csv('x_train.csv')\n",
    "#scale the data\n",
    "from sklearn.preprocessing import StandardScaler\n",
    "scaler = StandardScaler()\n",
    "x_train = scaler.fit_transform(x_train)"
   ]
  },
  {
   "cell_type": "markdown",
   "metadata": {},
   "source": [
    "Divide the training data into a train test split and try out various regression models. The regression models will be trained on the training set and then tested against ytest using Mean Absolute Error as error metric. "
   ]
  },
  {
   "cell_type": "code",
   "execution_count": 85,
   "metadata": {
    "collapsed": true
   },
   "outputs": [],
   "source": [
    "from sklearn.model_selection import train_test_split\n",
    "xtrain, xtest, ytrain, ytest = train_test_split(x_train,y_train,test_size=0.2, random_state=2)"
   ]
  },
  {
   "cell_type": "code",
   "execution_count": 86,
   "metadata": {},
   "outputs": [
    {
     "data": {
      "text/plain": [
       "0.069351085439598781"
      ]
     },
     "execution_count": 86,
     "metadata": {},
     "output_type": "execute_result"
    }
   ],
   "source": [
    "#Check some base models\n",
    "from sklearn.metrics import mean_absolute_error\n",
    "rf = RandomForestRegressor(max_depth=10, random_state=1)\n",
    "rf.fit(xtrain, ytrain)\n",
    "rf_y=rf.predict(xtest)\n",
    "mean_absolute_error(ytest,rf_y)"
   ]
  },
  {
   "cell_type": "code",
   "execution_count": 106,
   "metadata": {},
   "outputs": [
    {
     "data": {
      "text/plain": [
       "0.068490505024560097"
      ]
     },
     "execution_count": 106,
     "metadata": {},
     "output_type": "execute_result"
    }
   ],
   "source": [
    "ls = Lasso(alpha=1e-6, normalize=True)\n",
    "ls.fit(xtrain,ytrain)\n",
    "ls_y=ls.predict(xtest)\n",
    "mean_absolute_error(ytest,ls_y)\n"
   ]
  },
  {
   "cell_type": "code",
   "execution_count": 107,
   "metadata": {},
   "outputs": [
    {
     "data": {
      "text/plain": [
       "0.068525009349137841"
      ]
     },
     "execution_count": 107,
     "metadata": {},
     "output_type": "execute_result"
    }
   ],
   "source": [
    "el = ElasticNet(alpha=1e-7,fit_intercept=True, normalize=True)\n",
    "el.fit(xtrain,ytrain)\n",
    "el_y=el.predict(xtest)\n",
    "mean_absolute_error(ytest,el_y)"
   ]
  },
  {
   "cell_type": "code",
   "execution_count": 111,
   "metadata": {},
   "outputs": [
    {
     "data": {
      "text/plain": [
       "0.067882480587604904"
      ]
     },
     "execution_count": 111,
     "metadata": {},
     "output_type": "execute_result"
    }
   ],
   "source": [
    "#random forrest with ADA Boosing on Decision Tree\n",
    "from sklearn.tree import DecisionTreeRegressor\n",
    "rf_2 = AdaBoostRegressor(DecisionTreeRegressor(max_depth=100),\n",
    "                          n_estimators=300, random_state=1)\n",
    "rf_2.fit(xtrain, ytrain)\n",
    "rf_2_y=rf_2.predict(xtest)\n",
    "mean_absolute_error(ytest,rf_2_y)"
   ]
  },
  {
   "cell_type": "code",
   "execution_count": 99,
   "metadata": {
    "collapsed": true
   },
   "outputs": [],
   "source": [
    "from sklearn.decomposition import PCA\n",
    "pca = PCA(n_components=5)\n",
    "pca.fit(x_train)\n",
    "x_train_PCA=pca.transform(x_train)"
   ]
  },
  {
   "cell_type": "code",
   "execution_count": 100,
   "metadata": {
    "collapsed": true
   },
   "outputs": [],
   "source": [
    "xtrainpca, xtestpca, ytrainpca, ytestpca = train_test_split(x_train_PCA,y_train,test_size=0.2, random_state=2)"
   ]
  },
  {
   "cell_type": "code",
   "execution_count": 101,
   "metadata": {},
   "outputs": [
    {
     "data": {
      "text/plain": [
       "(72220, 5)"
      ]
     },
     "execution_count": 101,
     "metadata": {},
     "output_type": "execute_result"
    }
   ],
   "source": [
    "xtrainpca.shape"
   ]
  },
  {
   "cell_type": "code",
   "execution_count": 109,
   "metadata": {},
   "outputs": [
    {
     "data": {
      "text/plain": [
       "0.072321443682408199"
      ]
     },
     "execution_count": 109,
     "metadata": {},
     "output_type": "execute_result"
    }
   ],
   "source": [
    "from sklearn.ensemble import RandomForestRegressor, AdaBoostRegressor, ExtraTreesRegressor, GradientBoostingRegressor\n",
    "gbr = GradientBoostingRegressor(n_estimators=50, max_depth= 25, min_samples_split=2, learning_rate=0.01)\n",
    "gbr.fit(xtrainpca, ytrainpca)\n",
    "gbr_y=gbr.predict(xtestpca)\n",
    "mean_absolute_error(ytestpca,gbr_y)"
   ]
  },
  {
   "cell_type": "code",
   "execution_count": 103,
   "metadata": {},
   "outputs": [
    {
     "data": {
      "text/plain": [
       "0.080256450623096096"
      ]
     },
     "execution_count": 103,
     "metadata": {},
     "output_type": "execute_result"
    }
   ],
   "source": [
    "etr=ExtraTreesRegressor(n_estimators=50, max_features=5,random_state=1)\n",
    "etr.fit(xtrainpca, ytrainpca)\n",
    "etr_y=etr.predict(xtestpca)\n",
    "mean_absolute_error(ytestpca,etr_y)"
   ]
  },
  {
   "cell_type": "code",
   "execution_count": 95,
   "metadata": {},
   "outputs": [
    {
     "data": {
      "text/plain": [
       "0.068710807204532875"
      ]
     },
     "execution_count": 95,
     "metadata": {},
     "output_type": "execute_result"
    }
   ],
   "source": [
    "el = ElasticNet(alpha=1e-6,fit_intercept=True, normalize=True)\n",
    "el.fit(xtrainpca,ytrainpca)\n",
    "el_y=el.predict(xtestpca)\n",
    "mean_absolute_error(ytestpca,el_y)"
   ]
  },
  {
   "cell_type": "code",
   "execution_count": 96,
   "metadata": {},
   "outputs": [
    {
     "data": {
      "text/plain": [
       "array([-0.07035981, -0.06881327, -0.07131217, -0.07263973, -0.0699745 ])"
      ]
     },
     "execution_count": 96,
     "metadata": {},
     "output_type": "execute_result"
    }
   ],
   "source": [
    "from sklearn.model_selection import cross_val_score\n",
    "rf_2 = AdaBoostRegressor(DecisionTreeRegressor(max_depth=50),\n",
    "                          n_estimators=100, random_state=1)\n",
    "scores_rf_2 = cross_val_score(rf_2, x_train_PCA, y_train, cv=5, scoring='neg_mean_absolute_error')\n",
    "scores_rf_2"
   ]
  },
  {
   "cell_type": "code",
   "execution_count": 97,
   "metadata": {},
   "outputs": [
    {
     "data": {
      "text/plain": [
       "array([-0.06847512, -0.06698877, -0.0691936 , -0.07008986, -0.06760575])"
      ]
     },
     "execution_count": 97,
     "metadata": {},
     "output_type": "execute_result"
    }
   ],
   "source": [
    "\n",
    "scores_el = cross_val_score(el, x_train_PCA, y_train, cv=5, scoring='neg_mean_absolute_error')\n",
    "scores_el"
   ]
  },
  {
   "cell_type": "code",
   "execution_count": 98,
   "metadata": {},
   "outputs": [
    {
     "name": "stdout",
     "output_type": "stream",
     "text": [
      "1. feature 16 (0.090096)\n",
      "2. feature 18 (0.087925)\n",
      "3. feature 3 (0.086977)\n",
      "4. feature 17 (0.085112)\n",
      "5. feature 15 (0.084691)\n",
      "6. feature 11 (0.083601)\n",
      "7. feature 9 (0.082374)\n",
      "8. feature 10 (0.082177)\n",
      "9. feature 21 (0.078745)\n",
      "10. feature 20 (0.064370)\n",
      "11. feature 1 (0.042862)\n",
      "12. feature 0 (0.037581)\n",
      "13. feature 2 (0.020206)\n",
      "14. feature 8 (0.016274)\n",
      "15. feature 6 (0.016247)\n",
      "16. feature 14 (0.013058)\n",
      "17. feature 23 (0.008264)\n",
      "18. feature 5 (0.006849)\n",
      "19. feature 4 (0.005578)\n",
      "20. feature 12 (0.004800)\n",
      "21. feature 7 (0.001551)\n",
      "22. feature 13 (0.000468)\n",
      "23. feature 22 (0.000194)\n",
      "24. feature 19 (0.000000)\n"
     ]
    }
   ],
   "source": [
    "#find feature importances\n",
    "etr.fit(x_train,y_train)\n",
    "importances = etr.feature_importances_\n",
    "indices = np.argsort(importances)[::-1]\n",
    "for f in range(x_train.shape[1]):\n",
    "    print(\"%d. feature %d (%f)\" % (f + 1, indices[f], importances[indices[f]]))"
   ]
  },
  {
   "cell_type": "markdown",
   "metadata": {},
   "source": [
    "As we have seen that the best accuracy was achieved by using ADA Boosting on Decision tree regressor. "
   ]
  },
  {
   "cell_type": "code",
   "execution_count": null,
   "metadata": {
    "collapsed": true
   },
   "outputs": [],
   "source": []
  }
 ],
 "metadata": {
  "kernelspec": {
   "display_name": "Python 3",
   "language": "python",
   "name": "python3"
  },
  "language_info": {
   "codemirror_mode": {
    "name": "ipython",
    "version": 3
   },
   "file_extension": ".py",
   "mimetype": "text/x-python",
   "name": "python",
   "nbconvert_exporter": "python",
   "pygments_lexer": "ipython3",
   "version": "3.5.3"
  }
 },
 "nbformat": 4,
 "nbformat_minor": 2
}
